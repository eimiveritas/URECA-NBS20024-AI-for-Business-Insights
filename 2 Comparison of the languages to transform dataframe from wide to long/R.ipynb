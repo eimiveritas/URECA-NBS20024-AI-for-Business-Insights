{
 "cells": [
  {
   "cell_type": "code",
   "execution_count": 3,
   "id": "a0cb61b5",
   "metadata": {},
   "outputs": [
    {
     "name": "stderr",
     "output_type": "stream",
     "text": [
      "Installing package into 'C:/Users/eimiv/Documents/R/win-library/4.1'\n",
      "(as 'lib' is unspecified)\n",
      "\n"
     ]
    },
    {
     "name": "stdout",
     "output_type": "stream",
     "text": [
      "package 'data.table' successfully unpacked and MD5 sums checked\n",
      "\n",
      "The downloaded binary packages are in\n",
      "\tC:\\Users\\eimiv\\AppData\\Local\\Temp\\Rtmpaw7LFc\\downloaded_packages\n"
     ]
    },
    {
     "name": "stderr",
     "output_type": "stream",
     "text": [
      "Installing package into 'C:/Users/eimiv/Documents/R/win-library/4.1'\n",
      "(as 'lib' is unspecified)\n",
      "\n"
     ]
    },
    {
     "name": "stdout",
     "output_type": "stream",
     "text": [
      "package 'splitstackshape' successfully unpacked and MD5 sums checked\n",
      "\n",
      "The downloaded binary packages are in\n",
      "\tC:\\Users\\eimiv\\AppData\\Local\\Temp\\Rtmpaw7LFc\\downloaded_packages\n"
     ]
    }
   ],
   "source": [
    "install.packages('data.table')\n",
    "install.packages('splitstackshape')"
   ]
  },
  {
   "cell_type": "code",
   "execution_count": 4,
   "id": "59abd6c7",
   "metadata": {},
   "outputs": [],
   "source": [
    "library(data.table)\n",
    "library(splitstackshape)\n",
    "library(foreign)"
   ]
  },
  {
   "cell_type": "code",
   "execution_count": 8,
   "id": "a76ca7d2",
   "metadata": {},
   "outputs": [],
   "source": [
    "df <- read.dta(\"http://www.stata-press.com/data/r11/reshape1.dta\")\n",
    "df1 <- data.frame(df)\n",
    "setDT(df1)"
   ]
  },
  {
   "cell_type": "code",
   "execution_count": 9,
   "id": "12faa5bf",
   "metadata": {},
   "outputs": [],
   "source": [
    "colnames(df1) = sub(\"inc\", \"inc.\", colnames(df1))\n",
    "colnames(df1) = sub(\"ue\", \"ue.\", colnames(df1))\n",
    "\n",
    "df2 = merged.stack(df1, var.stubs=c(\"inc\", \"ue\"), sep = \".\")\n",
    "\n",
    "colnames(df2)[which(names(df2) == \".time_1\")] <- \"year\""
   ]
  },
  {
   "cell_type": "code",
   "execution_count": 10,
   "id": "643ffcbf",
   "metadata": {},
   "outputs": [
    {
     "data": {
      "text/html": [
       "<table class=\"dataframe\">\n",
       "<caption>A data.table: 9 × 5</caption>\n",
       "<thead>\n",
       "\t<tr><th scope=col>id</th><th scope=col>sex</th><th scope=col>year</th><th scope=col>inc</th><th scope=col>ue</th></tr>\n",
       "\t<tr><th scope=col>&lt;dbl&gt;</th><th scope=col>&lt;dbl&gt;</th><th scope=col>&lt;chr&gt;</th><th scope=col>&lt;dbl&gt;</th><th scope=col>&lt;dbl&gt;</th></tr>\n",
       "</thead>\n",
       "<tbody>\n",
       "\t<tr><td>1</td><td>0</td><td>80</td><td>5000</td><td>0</td></tr>\n",
       "\t<tr><td>1</td><td>0</td><td>81</td><td>5500</td><td>1</td></tr>\n",
       "\t<tr><td>1</td><td>0</td><td>82</td><td>6000</td><td>0</td></tr>\n",
       "\t<tr><td>2</td><td>1</td><td>80</td><td>2000</td><td>1</td></tr>\n",
       "\t<tr><td>2</td><td>1</td><td>81</td><td>2200</td><td>0</td></tr>\n",
       "\t<tr><td>2</td><td>1</td><td>82</td><td>3300</td><td>0</td></tr>\n",
       "\t<tr><td>3</td><td>0</td><td>80</td><td>3000</td><td>0</td></tr>\n",
       "\t<tr><td>3</td><td>0</td><td>81</td><td>2000</td><td>0</td></tr>\n",
       "\t<tr><td>3</td><td>0</td><td>82</td><td>1000</td><td>1</td></tr>\n",
       "</tbody>\n",
       "</table>\n"
      ],
      "text/latex": [
       "A data.table: 9 × 5\n",
       "\\begin{tabular}{lllll}\n",
       " id & sex & year & inc & ue\\\\\n",
       " <dbl> & <dbl> & <chr> & <dbl> & <dbl>\\\\\n",
       "\\hline\n",
       "\t 1 & 0 & 80 & 5000 & 0\\\\\n",
       "\t 1 & 0 & 81 & 5500 & 1\\\\\n",
       "\t 1 & 0 & 82 & 6000 & 0\\\\\n",
       "\t 2 & 1 & 80 & 2000 & 1\\\\\n",
       "\t 2 & 1 & 81 & 2200 & 0\\\\\n",
       "\t 2 & 1 & 82 & 3300 & 0\\\\\n",
       "\t 3 & 0 & 80 & 3000 & 0\\\\\n",
       "\t 3 & 0 & 81 & 2000 & 0\\\\\n",
       "\t 3 & 0 & 82 & 1000 & 1\\\\\n",
       "\\end{tabular}\n"
      ],
      "text/markdown": [
       "\n",
       "A data.table: 9 × 5\n",
       "\n",
       "| id &lt;dbl&gt; | sex &lt;dbl&gt; | year &lt;chr&gt; | inc &lt;dbl&gt; | ue &lt;dbl&gt; |\n",
       "|---|---|---|---|---|\n",
       "| 1 | 0 | 80 | 5000 | 0 |\n",
       "| 1 | 0 | 81 | 5500 | 1 |\n",
       "| 1 | 0 | 82 | 6000 | 0 |\n",
       "| 2 | 1 | 80 | 2000 | 1 |\n",
       "| 2 | 1 | 81 | 2200 | 0 |\n",
       "| 2 | 1 | 82 | 3300 | 0 |\n",
       "| 3 | 0 | 80 | 3000 | 0 |\n",
       "| 3 | 0 | 81 | 2000 | 0 |\n",
       "| 3 | 0 | 82 | 1000 | 1 |\n",
       "\n"
      ],
      "text/plain": [
       "  id sex year inc  ue\n",
       "1 1  0   80   5000 0 \n",
       "2 1  0   81   5500 1 \n",
       "3 1  0   82   6000 0 \n",
       "4 2  1   80   2000 1 \n",
       "5 2  1   81   2200 0 \n",
       "6 2  1   82   3300 0 \n",
       "7 3  0   80   3000 0 \n",
       "8 3  0   81   2000 0 \n",
       "9 3  0   82   1000 1 "
      ]
     },
     "metadata": {},
     "output_type": "display_data"
    }
   ],
   "source": [
    "df2"
   ]
  },
  {
   "cell_type": "code",
   "execution_count": null,
   "id": "cc24a6ab",
   "metadata": {},
   "outputs": [],
   "source": []
  }
 ],
 "metadata": {
  "kernelspec": {
   "display_name": "R",
   "language": "R",
   "name": "ir"
  },
  "language_info": {
   "codemirror_mode": "r",
   "file_extension": ".r",
   "mimetype": "text/x-r-source",
   "name": "R",
   "pygments_lexer": "r",
   "version": "4.1.0"
  }
 },
 "nbformat": 4,
 "nbformat_minor": 5
}
