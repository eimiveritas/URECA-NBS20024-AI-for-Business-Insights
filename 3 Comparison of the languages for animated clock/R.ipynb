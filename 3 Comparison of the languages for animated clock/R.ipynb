{
 "cells": [
  {
   "cell_type": "code",
   "execution_count": 3,
   "id": "21f00e82",
   "metadata": {},
   "outputs": [
    {
     "name": "stderr",
     "output_type": "stream",
     "text": [
      "Installing package into 'C:/Users/eimiv/Documents/R/win-library/4.1'\n",
      "(as 'lib' is unspecified)\n",
      "\n",
      "also installing the dependencies 'colorspace', 'sys', 'ps', 'rappdirs', 'rematch', 'farver', 'labeling', 'munsell', 'RColorBrewer', 'viridisLite', 'askpass', 'prettyunits', 'processx', 'highr', 'markdown', 'yaml', 'xfun', 'tinytex', 'backports', 'assertthat', 'blob', 'DBI', 'withr', 'curl', 'gargle', 'cellranger', 'ids', 'rematch2', 'gtable', 'isoband', 'scales', 'mime', 'openssl', 'clipr', 'BH', 'progress', 'callr', 'fs', 'knitr', 'rmarkdown', 'selectr', 'broom', 'dbplyr', 'dtplyr', 'forcats', 'googledrive', 'googlesheets4', 'ggplot2', 'haven', 'hms', 'httr', 'modelr', 'readr', 'readxl', 'reprex', 'rstudioapi', 'rvest', 'xml2'\n",
      "\n",
      "\n"
     ]
    },
    {
     "name": "stdout",
     "output_type": "stream",
     "text": [
      "\n",
      "  There are binary versions available but the source versions are later:\n",
      "        binary source needs_compilation\n",
      "curl     4.3.1  4.3.2              TRUE\n",
      "ggplot2  3.3.4  3.3.5             FALSE\n",
      "\n",
      "  Binaries will be installed\n",
      "package 'colorspace' successfully unpacked and MD5 sums checked\n",
      "package 'sys' successfully unpacked and MD5 sums checked\n",
      "package 'ps' successfully unpacked and MD5 sums checked\n",
      "package 'rappdirs' successfully unpacked and MD5 sums checked\n",
      "package 'rematch' successfully unpacked and MD5 sums checked\n",
      "package 'farver' successfully unpacked and MD5 sums checked\n",
      "package 'labeling' successfully unpacked and MD5 sums checked\n",
      "package 'munsell' successfully unpacked and MD5 sums checked\n",
      "package 'RColorBrewer' successfully unpacked and MD5 sums checked\n",
      "package 'viridisLite' successfully unpacked and MD5 sums checked\n",
      "package 'askpass' successfully unpacked and MD5 sums checked\n",
      "package 'prettyunits' successfully unpacked and MD5 sums checked\n",
      "package 'processx' successfully unpacked and MD5 sums checked\n",
      "package 'highr' successfully unpacked and MD5 sums checked\n",
      "package 'markdown' successfully unpacked and MD5 sums checked\n",
      "package 'yaml' successfully unpacked and MD5 sums checked\n",
      "package 'xfun' successfully unpacked and MD5 sums checked\n",
      "package 'tinytex' successfully unpacked and MD5 sums checked\n",
      "package 'backports' successfully unpacked and MD5 sums checked\n",
      "package 'assertthat' successfully unpacked and MD5 sums checked\n",
      "package 'blob' successfully unpacked and MD5 sums checked\n",
      "package 'DBI' successfully unpacked and MD5 sums checked\n",
      "package 'withr' successfully unpacked and MD5 sums checked\n",
      "package 'curl' successfully unpacked and MD5 sums checked\n",
      "package 'gargle' successfully unpacked and MD5 sums checked\n",
      "package 'cellranger' successfully unpacked and MD5 sums checked\n",
      "package 'ids' successfully unpacked and MD5 sums checked\n",
      "package 'rematch2' successfully unpacked and MD5 sums checked\n",
      "package 'gtable' successfully unpacked and MD5 sums checked\n",
      "package 'isoband' successfully unpacked and MD5 sums checked\n",
      "package 'scales' successfully unpacked and MD5 sums checked\n",
      "package 'mime' successfully unpacked and MD5 sums checked\n",
      "package 'openssl' successfully unpacked and MD5 sums checked\n",
      "package 'clipr' successfully unpacked and MD5 sums checked\n",
      "package 'BH' successfully unpacked and MD5 sums checked\n",
      "package 'progress' successfully unpacked and MD5 sums checked\n",
      "package 'callr' successfully unpacked and MD5 sums checked\n",
      "package 'fs' successfully unpacked and MD5 sums checked\n",
      "package 'knitr' successfully unpacked and MD5 sums checked\n",
      "package 'rmarkdown' successfully unpacked and MD5 sums checked\n",
      "package 'selectr' successfully unpacked and MD5 sums checked\n",
      "package 'broom' successfully unpacked and MD5 sums checked\n",
      "package 'dbplyr' successfully unpacked and MD5 sums checked\n",
      "package 'dtplyr' successfully unpacked and MD5 sums checked\n",
      "package 'forcats' successfully unpacked and MD5 sums checked\n",
      "package 'googledrive' successfully unpacked and MD5 sums checked\n",
      "package 'googlesheets4' successfully unpacked and MD5 sums checked\n",
      "package 'haven' successfully unpacked and MD5 sums checked\n",
      "package 'hms' successfully unpacked and MD5 sums checked\n",
      "package 'httr' successfully unpacked and MD5 sums checked\n",
      "package 'modelr' successfully unpacked and MD5 sums checked\n",
      "package 'readr' successfully unpacked and MD5 sums checked\n",
      "package 'readxl' successfully unpacked and MD5 sums checked\n",
      "package 'reprex' successfully unpacked and MD5 sums checked\n",
      "package 'rstudioapi' successfully unpacked and MD5 sums checked\n",
      "package 'rvest' successfully unpacked and MD5 sums checked\n",
      "package 'xml2' successfully unpacked and MD5 sums checked\n",
      "package 'tidyverse' successfully unpacked and MD5 sums checked\n",
      "\n",
      "The downloaded binary packages are in\n",
      "\tC:\\Users\\eimiv\\AppData\\Local\\Temp\\RtmpURNgcW\\downloaded_packages\n"
     ]
    },
    {
     "name": "stderr",
     "output_type": "stream",
     "text": [
      "installing the source package 'ggplot2'\n",
      "\n",
      "\n"
     ]
    }
   ],
   "source": [
    "install.packages('tidyverse')"
   ]
  },
  {
   "cell_type": "code",
   "execution_count": 4,
   "id": "f83f63b6",
   "metadata": {},
   "outputs": [
    {
     "name": "stderr",
     "output_type": "stream",
     "text": [
      "-- \u001b[1mAttaching packages\u001b[22m ---------------------- tidyverse 1.3.1 --\n",
      "\n",
      "\u001b[32mv\u001b[39m \u001b[34mggplot2\u001b[39m 3.3.5     \u001b[32mv\u001b[39m \u001b[34mpurrr  \u001b[39m 0.3.4\n",
      "\u001b[32mv\u001b[39m \u001b[34mtibble \u001b[39m 3.1.2     \u001b[32mv\u001b[39m \u001b[34mdplyr  \u001b[39m 1.0.7\n",
      "\u001b[32mv\u001b[39m \u001b[34mtidyr  \u001b[39m 1.1.3     \u001b[32mv\u001b[39m \u001b[34mstringr\u001b[39m 1.4.0\n",
      "\u001b[32mv\u001b[39m \u001b[34mreadr  \u001b[39m 1.4.0     \u001b[32mv\u001b[39m \u001b[34mforcats\u001b[39m 0.5.1\n",
      "\n",
      "-- \u001b[1mConflicts\u001b[22m ------------------------- tidyverse_conflicts() --\n",
      "\u001b[31mx\u001b[39m \u001b[34mdplyr\u001b[39m::\u001b[32mfilter()\u001b[39m masks \u001b[34mstats\u001b[39m::filter()\n",
      "\u001b[31mx\u001b[39m \u001b[34mdplyr\u001b[39m::\u001b[32mlag()\u001b[39m    masks \u001b[34mstats\u001b[39m::lag()\n",
      "\n"
     ]
    }
   ],
   "source": [
    "library(tidyverse)"
   ]
  },
  {
   "cell_type": "code",
   "execution_count": 5,
   "id": "c7068cf5",
   "metadata": {},
   "outputs": [],
   "source": [
    "minutes <- tibble(x = 0:60, y = 1)\n",
    "hours <- filter(minutes, x %% 5 == 0)"
   ]
  },
  {
   "cell_type": "code",
   "execution_count": 6,
   "id": "6d45b028",
   "metadata": {},
   "outputs": [
    {
     "data": {
      "image/png": "[encoded data removed]",
      "text/plain": [
       "plot without title"
      ]
     },
     "metadata": {
      "image/png": {
       "height": 420,
       "width": 420
      }
     },
     "output_type": "display_data"
    }
   ],
   "source": [
    "\n",
    "\n",
    "\n",
    "p <- ggplot() +\n",
    "  geom_point(data = minutes, aes(x = x, y = y)) +\n",
    "  geom_point(data = hours, aes(x = x, y = y, \n",
    "                               color = factor(x, levels = c(60, seq(5, 55, 5)))),\n",
    "             size = 5, show.legend = FALSE) +\n",
    "  coord_polar() +\n",
    "  expand_limits(y = c(0, 1)) +\n",
    "  scale_x_continuous(breaks = seq(15, 60, 15), labels = c(3, 6, 9, \"0/12\")) +\n",
    "  scale_y_continuous(breaks = seq(0, 1, 0.25)) +\n",
    "  scale_color_discrete() +\n",
    "  theme_grey() +\n",
    "  theme(\n",
    "    axis.title = element_blank(),\n",
    "    axis.ticks = element_blank(),\n",
    "    axis.text.x = element_text(size = 20),\n",
    "    axis.text.y = element_blank(),\n",
    "    panel.grid.major = element_line(size = 2),\n",
    "    panel.grid.minor = element_line(size = 2)\n",
    "  )\n",
    "\n",
    "plot(p)\n"
   ]
  },
  {
   "cell_type": "code",
   "execution_count": null,
   "id": "9d929dd4",
   "metadata": {},
   "outputs": [],
   "source": []
  }
 ],
 "metadata": {
  "kernelspec": {
   "display_name": "R",
   "language": "R",
   "name": "ir"
  },
  "language_info": {
   "codemirror_mode": "r",
   "file_extension": ".r",
   "mimetype": "text/x-r-source",
   "name": "R",
   "pygments_lexer": "r",
   "version": "4.1.0"
  }
 },
 "nbformat": 4,
 "nbformat_minor": 5
}
