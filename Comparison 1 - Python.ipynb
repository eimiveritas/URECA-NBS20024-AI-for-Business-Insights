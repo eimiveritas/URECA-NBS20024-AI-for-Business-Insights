{
 "cells": [
  {
   "cell_type": "code",
   "execution_count": 1,
   "id": "0d394821",
   "metadata": {},
   "outputs": [],
   "source": [
    "import resource\n",
    "def usage():\n",
    "    res = resource.getrusage(resource.RUSAGE_SELF)\n",
    "    return {\n",
    "        \"usr\": res[0],\n",
    "        \"sys\": res[1],\n",
    "        \"time\": res[0] + res[1], # sum of user and system mode\n",
    "        \"mem\": res[2]/1024.0\n",
    "    }"
   ]
  },
  {
   "cell_type": "code",
   "execution_count": 2,
   "id": "b74d4b37",
   "metadata": {},
   "outputs": [],
   "source": [
    "before = usage()"
   ]
  },
  {
   "cell_type": "code",
   "execution_count": 3,
   "id": "6b7ac269",
   "metadata": {},
   "outputs": [],
   "source": [
    "import pandas as pd\n",
    "import numpy as np"
   ]
  },
  {
   "cell_type": "code",
   "execution_count": 4,
   "id": "79c7e986",
   "metadata": {},
   "outputs": [],
   "source": [
    "df1 = pd.read_stata('http://www.stata-press.com/data/r11/auto.dta')\n",
    "#df1"
   ]
  },
  {
   "cell_type": "code",
   "execution_count": 5,
   "id": "96314eed",
   "metadata": {},
   "outputs": [],
   "source": [
    "grouped_by_rep78 = df1.groupby('rep78')"
   ]
  },
  {
   "cell_type": "markdown",
   "id": "5bdf2378",
   "metadata": {},
   "source": [
    "# Table 1"
   ]
  },
  {
   "cell_type": "code",
   "execution_count": 6,
   "id": "eebc9893",
   "metadata": {},
   "outputs": [
    {
     "data": {
      "text/html": [
       "<div>\n",
       "<style scoped>\n",
       "    .dataframe tbody tr th:only-of-type {\n",
       "        vertical-align: middle;\n",
       "    }\n",
       "\n",
       "    .dataframe tbody tr th {\n",
       "        vertical-align: top;\n",
       "    }\n",
       "\n",
       "    .dataframe thead th {\n",
       "        text-align: right;\n",
       "    }\n",
       "</style>\n",
       "<table border=\"1\" class=\"dataframe\">\n",
       "  <thead>\n",
       "    <tr style=\"text-align: right;\">\n",
       "      <th></th>\n",
       "      <th>Freq</th>\n",
       "    </tr>\n",
       "    <tr>\n",
       "      <th>rep78</th>\n",
       "      <th></th>\n",
       "    </tr>\n",
       "  </thead>\n",
       "  <tbody>\n",
       "    <tr>\n",
       "      <th>1.0</th>\n",
       "      <td>2</td>\n",
       "    </tr>\n",
       "    <tr>\n",
       "      <th>2.0</th>\n",
       "      <td>8</td>\n",
       "    </tr>\n",
       "    <tr>\n",
       "      <th>3.0</th>\n",
       "      <td>30</td>\n",
       "    </tr>\n",
       "    <tr>\n",
       "      <th>4.0</th>\n",
       "      <td>18</td>\n",
       "    </tr>\n",
       "    <tr>\n",
       "      <th>5.0</th>\n",
       "      <td>11</td>\n",
       "    </tr>\n",
       "  </tbody>\n",
       "</table>\n",
       "</div>"
      ],
      "text/plain": [
       "       Freq\n",
       "rep78      \n",
       "1.0       2\n",
       "2.0       8\n",
       "3.0      30\n",
       "4.0      18\n",
       "5.0      11"
      ]
     },
     "execution_count": 6,
     "metadata": {},
     "output_type": "execute_result"
    }
   ],
   "source": [
    "grouped_by_rep78.agg(\n",
    "    **{\n",
    "        'Freq': pd.NamedAgg(column='rep78', aggfunc='count'),\n",
    "    }\n",
    ")"
   ]
  },
  {
   "cell_type": "markdown",
   "id": "8755ab7e",
   "metadata": {},
   "source": [
    "# Table 2"
   ]
  },
  {
   "cell_type": "code",
   "execution_count": 7,
   "id": "63e11841",
   "metadata": {},
   "outputs": [
    {
     "data": {
      "text/html": [
       "<div>\n",
       "<style scoped>\n",
       "    .dataframe tbody tr th:only-of-type {\n",
       "        vertical-align: middle;\n",
       "    }\n",
       "\n",
       "    .dataframe tbody tr th {\n",
       "        vertical-align: top;\n",
       "    }\n",
       "\n",
       "    .dataframe thead th {\n",
       "        text-align: right;\n",
       "    }\n",
       "</style>\n",
       "<table border=\"1\" class=\"dataframe\">\n",
       "  <thead>\n",
       "    <tr style=\"text-align: right;\">\n",
       "      <th></th>\n",
       "      <th>N(mpg)</th>\n",
       "      <th>mean(mpg)</th>\n",
       "      <th>med(mpg)</th>\n",
       "      <th>max(price)</th>\n",
       "      <th>min(length)</th>\n",
       "    </tr>\n",
       "    <tr>\n",
       "      <th>rep78</th>\n",
       "      <th></th>\n",
       "      <th></th>\n",
       "      <th></th>\n",
       "      <th></th>\n",
       "      <th></th>\n",
       "    </tr>\n",
       "  </thead>\n",
       "  <tbody>\n",
       "    <tr>\n",
       "      <th>1.0</th>\n",
       "      <td>2</td>\n",
       "      <td>21.000000</td>\n",
       "      <td>21.0</td>\n",
       "      <td>4934</td>\n",
       "      <td>180</td>\n",
       "    </tr>\n",
       "    <tr>\n",
       "      <th>2.0</th>\n",
       "      <td>8</td>\n",
       "      <td>19.125000</td>\n",
       "      <td>18.0</td>\n",
       "      <td>14500</td>\n",
       "      <td>179</td>\n",
       "    </tr>\n",
       "    <tr>\n",
       "      <th>3.0</th>\n",
       "      <td>30</td>\n",
       "      <td>19.433333</td>\n",
       "      <td>19.0</td>\n",
       "      <td>15906</td>\n",
       "      <td>142</td>\n",
       "    </tr>\n",
       "    <tr>\n",
       "      <th>4.0</th>\n",
       "      <td>18</td>\n",
       "      <td>21.666667</td>\n",
       "      <td>22.5</td>\n",
       "      <td>9735</td>\n",
       "      <td>147</td>\n",
       "    </tr>\n",
       "    <tr>\n",
       "      <th>5.0</th>\n",
       "      <td>11</td>\n",
       "      <td>27.363636</td>\n",
       "      <td>30.0</td>\n",
       "      <td>11995</td>\n",
       "      <td>155</td>\n",
       "    </tr>\n",
       "  </tbody>\n",
       "</table>\n",
       "</div>"
      ],
      "text/plain": [
       "       N(mpg)  mean(mpg)  med(mpg)  max(price)  min(length)\n",
       "rep78                                                      \n",
       "1.0         2  21.000000      21.0        4934          180\n",
       "2.0         8  19.125000      18.0       14500          179\n",
       "3.0        30  19.433333      19.0       15906          142\n",
       "4.0        18  21.666667      22.5        9735          147\n",
       "5.0        11  27.363636      30.0       11995          155"
      ]
     },
     "execution_count": 7,
     "metadata": {},
     "output_type": "execute_result"
    }
   ],
   "source": [
    "grouped_by_rep78.agg(\n",
    "    **{\n",
    "        'N(mpg)': pd.NamedAgg(column='mpg', aggfunc='count'),\n",
    "        'mean(mpg)': pd.NamedAgg(column='mpg', aggfunc='mean'),\n",
    "        'med(mpg)': pd.NamedAgg(column='mpg', aggfunc='median'),\n",
    "        'max(price)': pd.NamedAgg(column='price', aggfunc='max'),\n",
    "        'min(length)': pd.NamedAgg(column='length', aggfunc='min'),\n",
    "    }\n",
    ")"
   ]
  },
  {
   "cell_type": "markdown",
   "id": "325f7acc",
   "metadata": {},
   "source": [
    "# Table 3"
   ]
  },
  {
   "cell_type": "code",
   "execution_count": 8,
   "id": "a6dd1fe0",
   "metadata": {},
   "outputs": [
    {
     "data": {
      "text/html": [
       "<div>\n",
       "<style scoped>\n",
       "    .dataframe tbody tr th:only-of-type {\n",
       "        vertical-align: middle;\n",
       "    }\n",
       "\n",
       "    .dataframe tbody tr th {\n",
       "        vertical-align: top;\n",
       "    }\n",
       "\n",
       "    .dataframe thead th {\n",
       "        text-align: right;\n",
       "    }\n",
       "</style>\n",
       "<table border=\"1\" class=\"dataframe\">\n",
       "  <thead>\n",
       "    <tr style=\"text-align: right;\">\n",
       "      <th></th>\n",
       "      <th>Domestic</th>\n",
       "      <th>Foreign</th>\n",
       "      <th>Total</th>\n",
       "    </tr>\n",
       "    <tr>\n",
       "      <th>rep78</th>\n",
       "      <th></th>\n",
       "      <th></th>\n",
       "      <th></th>\n",
       "    </tr>\n",
       "  </thead>\n",
       "  <tbody>\n",
       "    <tr>\n",
       "      <th>1.0</th>\n",
       "      <td>2</td>\n",
       "      <td>0</td>\n",
       "      <td>2</td>\n",
       "    </tr>\n",
       "    <tr>\n",
       "      <th>2.0</th>\n",
       "      <td>8</td>\n",
       "      <td>0</td>\n",
       "      <td>8</td>\n",
       "    </tr>\n",
       "    <tr>\n",
       "      <th>3.0</th>\n",
       "      <td>27</td>\n",
       "      <td>3</td>\n",
       "      <td>30</td>\n",
       "    </tr>\n",
       "    <tr>\n",
       "      <th>4.0</th>\n",
       "      <td>9</td>\n",
       "      <td>9</td>\n",
       "      <td>18</td>\n",
       "    </tr>\n",
       "    <tr>\n",
       "      <th>5.0</th>\n",
       "      <td>2</td>\n",
       "      <td>9</td>\n",
       "      <td>11</td>\n",
       "    </tr>\n",
       "    <tr>\n",
       "      <th>Total</th>\n",
       "      <td>48</td>\n",
       "      <td>21</td>\n",
       "      <td>69</td>\n",
       "    </tr>\n",
       "  </tbody>\n",
       "</table>\n",
       "</div>"
      ],
      "text/plain": [
       "       Domestic  Foreign  Total\n",
       "rep78                          \n",
       "1.0           2        0      2\n",
       "2.0           8        0      8\n",
       "3.0          27        3     30\n",
       "4.0           9        9     18\n",
       "5.0           2        9     11\n",
       "Total        48       21     69"
      ]
     },
     "execution_count": 8,
     "metadata": {},
     "output_type": "execute_result"
    }
   ],
   "source": [
    "t3 = grouped_by_rep78.agg(\n",
    "    **{\n",
    "        'Domestic': pd.NamedAgg(column='foreign', aggfunc=lambda x: x.eq(\"Domestic\").sum()),\n",
    "        'Foreign': pd.NamedAgg(column='foreign', aggfunc=lambda x: x.eq(\"Foreign\").sum()),\n",
    "    }\n",
    ")\n",
    "t3['Total'] = t3.iloc[:, 0:2].sum(axis=1)\n",
    "t3.loc['Total'] = t3.sum(numeric_only=True, axis=0)\n",
    "t3.append(t3.sum(numeric_only=True), ignore_index=True)\n",
    "t3"
   ]
  },
  {
   "cell_type": "markdown",
   "id": "1f647c98",
   "metadata": {},
   "source": [
    "# Table 4"
   ]
  },
  {
   "cell_type": "code",
   "execution_count": 9,
   "id": "89d70f97",
   "metadata": {},
   "outputs": [
    {
     "data": {
      "text/html": [
       "<div>\n",
       "<style scoped>\n",
       "    .dataframe tbody tr th:only-of-type {\n",
       "        vertical-align: middle;\n",
       "    }\n",
       "\n",
       "    .dataframe tbody tr th {\n",
       "        vertical-align: top;\n",
       "    }\n",
       "\n",
       "    .dataframe thead th {\n",
       "        text-align: right;\n",
       "    }\n",
       "</style>\n",
       "<table border=\"1\" class=\"dataframe\">\n",
       "  <thead>\n",
       "    <tr style=\"text-align: right;\">\n",
       "      <th></th>\n",
       "      <th>Domestic</th>\n",
       "      <th>Foreign</th>\n",
       "      <th>Total</th>\n",
       "    </tr>\n",
       "    <tr>\n",
       "      <th>rep78</th>\n",
       "      <th></th>\n",
       "      <th></th>\n",
       "      <th></th>\n",
       "    </tr>\n",
       "  </thead>\n",
       "  <tbody>\n",
       "    <tr>\n",
       "      <th>1.0</th>\n",
       "      <td>21.000000</td>\n",
       "      <td>NaN</td>\n",
       "      <td>21.000000</td>\n",
       "    </tr>\n",
       "    <tr>\n",
       "      <th>2.0</th>\n",
       "      <td>19.125000</td>\n",
       "      <td>NaN</td>\n",
       "      <td>19.125000</td>\n",
       "    </tr>\n",
       "    <tr>\n",
       "      <th>3.0</th>\n",
       "      <td>19.000000</td>\n",
       "      <td>23.333333</td>\n",
       "      <td>19.433333</td>\n",
       "    </tr>\n",
       "    <tr>\n",
       "      <th>4.0</th>\n",
       "      <td>18.444444</td>\n",
       "      <td>24.888889</td>\n",
       "      <td>21.666667</td>\n",
       "    </tr>\n",
       "    <tr>\n",
       "      <th>5.0</th>\n",
       "      <td>32.000000</td>\n",
       "      <td>26.333333</td>\n",
       "      <td>27.363636</td>\n",
       "    </tr>\n",
       "    <tr>\n",
       "      <th>Total</th>\n",
       "      <td>19.826923</td>\n",
       "      <td>24.772727</td>\n",
       "      <td>NaN</td>\n",
       "    </tr>\n",
       "  </tbody>\n",
       "</table>\n",
       "</div>"
      ],
      "text/plain": [
       "        Domestic    Foreign      Total\n",
       "rep78                                 \n",
       "1.0    21.000000        NaN  21.000000\n",
       "2.0    19.125000        NaN  19.125000\n",
       "3.0    19.000000  23.333333  19.433333\n",
       "4.0    18.444444  24.888889  21.666667\n",
       "5.0    32.000000  26.333333  27.363636\n",
       "Total  19.826923  24.772727        NaN"
      ]
     },
     "execution_count": 9,
     "metadata": {},
     "output_type": "execute_result"
    }
   ],
   "source": [
    "def f(x):\n",
    "    d = {}\n",
    "    d['Domestic'] = x[x['foreign'] == 'Domestic']['mpg'].mean()\n",
    "    d['Foreign'] = x[x['foreign'] == 'Foreign']['mpg'].mean()\n",
    "    \n",
    "    d['Total'] = x['mpg'].mean()\n",
    "\n",
    "    return pd.Series(d, index=['Domestic', 'Foreign', 'Total'])\n",
    "\n",
    "t4 = grouped_by_rep78.apply(f)\n",
    "\n",
    "t4.loc['Total'] = df1.groupby('foreign')['mpg'].mean()\n",
    "t4"
   ]
  },
  {
   "cell_type": "code",
   "execution_count": 10,
   "id": "14ef46af",
   "metadata": {},
   "outputs": [
    {
     "name": "stdout",
     "output_type": "stream",
     "text": [
      "time elapsed = 1.6096859999999997\n",
      "usr elapsed = 0.996708\n",
      "sys elapsed = 0.612978\n",
      "memory used = 48.69921875\n"
     ]
    }
   ],
   "source": [
    "after = usage()\n",
    "\n",
    "print(\"time elapsed = {}\".format(after[\"time\"] - before[\"time\"]))\n",
    "print(\"usr elapsed = {}\".format(after[\"usr\"] - before[\"usr\"]))\n",
    "print(\"sys elapsed = {}\".format(after[\"sys\"] - before[\"sys\"]))\n",
    "print(\"memory used = {}\".format(after[\"mem\"] - before[\"mem\"]))"
   ]
  },
  {
   "cell_type": "code",
   "execution_count": 11,
   "id": "b98baf27",
   "metadata": {},
   "outputs": [
    {
     "name": "stdout",
     "output_type": "stream",
     "text": [
      "dataframe size in memory 10.08984375 kB\n"
     ]
    }
   ],
   "source": [
    "import sys\n",
    "print(\"dataframe size in memory {} kB\".format(sys.getsizeof(df1) / 1024.0))"
   ]
  }
 ],
 "metadata": {
  "kernelspec": {
   "display_name": "Python 3",
   "language": "python",
   "name": "python3"
  },
  "language_info": {
   "codemirror_mode": {
    "name": "ipython",
    "version": 3
   },
   "file_extension": ".py",
   "mimetype": "text/x-python",
   "name": "python",
   "nbconvert_exporter": "python",
   "pygments_lexer": "ipython3",
   "version": "3.8.5"
  }
 },
 "nbformat": 4,
 "nbformat_minor": 5
}
