{
 "cells": [
  {
   "cell_type": "code",
   "execution_count": 1,
   "id": "fcabea0b",
   "metadata": {},
   "outputs": [
    {
     "name": "stderr",
     "output_type": "stream",
     "text": [
      "Registered S3 method overwritten by 'pryr':\n",
      "  method      from\n",
      "  print.bytes Rcpp\n",
      "\n"
     ]
    }
   ],
   "source": [
    "#install.packages('dplyr')\n",
    "#install.packages('janitor')\n",
    "#install.packages(\"pryr\")\n",
    "#install.packages(\"tidyr\")\n",
    "library(pryr)"
   ]
  },
  {
   "cell_type": "code",
   "execution_count": 2,
   "id": "738efa33",
   "metadata": {},
   "outputs": [],
   "source": [
    "mem_b <- mem_used()\n",
    "ptm <- proc.time()"
   ]
  },
  {
   "cell_type": "code",
   "execution_count": 3,
   "id": "27b4d756",
   "metadata": {},
   "outputs": [
    {
     "name": "stderr",
     "output_type": "stream",
     "text": [
      "\n",
      "Attaching package: 'dplyr'\n",
      "\n",
      "\n",
      "The following objects are masked from 'package:stats':\n",
      "\n",
      "    filter, lag\n",
      "\n",
      "\n",
      "The following objects are masked from 'package:base':\n",
      "\n",
      "    intersect, setdiff, setequal, union\n",
      "\n",
      "\n",
      "\n",
      "Attaching package: 'janitor'\n",
      "\n",
      "\n",
      "The following objects are masked from 'package:stats':\n",
      "\n",
      "    chisq.test, fisher.test\n",
      "\n",
      "\n"
     ]
    }
   ],
   "source": [
    "library(dplyr)\n",
    "library(foreign)\n",
    "library(janitor)\n",
    "library(tidyr)"
   ]
  },
  {
   "cell_type": "code",
   "execution_count": 4,
   "id": "77848d2b",
   "metadata": {},
   "outputs": [],
   "source": [
    "df <- read.dta(\"http://www.stata-press.com/data/r11/auto.dta\") %>% drop_na()"
   ]
  },
  {
   "cell_type": "code",
   "execution_count": 5,
   "id": "035f964c",
   "metadata": {},
   "outputs": [],
   "source": [
    "df1 <- group_by(df, rep78)"
   ]
  },
  {
   "cell_type": "markdown",
   "id": "cca9e4e7",
   "metadata": {},
   "source": [
    "# Table 1"
   ]
  },
  {
   "cell_type": "code",
   "execution_count": 6,
   "id": "60ef103c",
   "metadata": {},
   "outputs": [
    {
     "data": {
      "text/html": [
       "<table class=\"dataframe\">\n",
       "<caption>A data.frame: 5 × 2</caption>\n",
       "<thead>\n",
       "\t<tr><th scope=col>rep78</th><th scope=col>n</th></tr>\n",
       "\t<tr><th scope=col>&lt;int&gt;</th><th scope=col>&lt;int&gt;</th></tr>\n",
       "</thead>\n",
       "<tbody>\n",
       "\t<tr><td>1</td><td> 2</td></tr>\n",
       "\t<tr><td>2</td><td> 8</td></tr>\n",
       "\t<tr><td>3</td><td>30</td></tr>\n",
       "\t<tr><td>4</td><td>18</td></tr>\n",
       "\t<tr><td>5</td><td>11</td></tr>\n",
       "</tbody>\n",
       "</table>\n"
      ],
      "text/latex": [
       "A data.frame: 5 × 2\n",
       "\\begin{tabular}{ll}\n",
       " rep78 & n\\\\\n",
       " <int> & <int>\\\\\n",
       "\\hline\n",
       "\t 1 &  2\\\\\n",
       "\t 2 &  8\\\\\n",
       "\t 3 & 30\\\\\n",
       "\t 4 & 18\\\\\n",
       "\t 5 & 11\\\\\n",
       "\\end{tabular}\n"
      ],
      "text/markdown": [
       "\n",
       "A data.frame: 5 × 2\n",
       "\n",
       "| rep78 &lt;int&gt; | n &lt;int&gt; |\n",
       "|---|---|\n",
       "| 1 |  2 |\n",
       "| 2 |  8 |\n",
       "| 3 | 30 |\n",
       "| 4 | 18 |\n",
       "| 5 | 11 |\n",
       "\n"
      ],
      "text/plain": [
       "  rep78 n \n",
       "1 1      2\n",
       "2 2      8\n",
       "3 3     30\n",
       "4 4     18\n",
       "5 5     11"
      ]
     },
     "metadata": {},
     "output_type": "display_data"
    }
   ],
   "source": [
    "count(df, rep78)"
   ]
  },
  {
   "cell_type": "markdown",
   "id": "31660ba4",
   "metadata": {},
   "source": [
    "# Table 2"
   ]
  },
  {
   "cell_type": "code",
   "execution_count": 7,
   "id": "7daa5b5b",
   "metadata": {},
   "outputs": [
    {
     "data": {
      "text/html": [
       "<table class=\"dataframe\">\n",
       "<caption>A tibble: 5 × 6</caption>\n",
       "<thead>\n",
       "\t<tr><th scope=col>rep78</th><th scope=col>N(mpg)</th><th scope=col>mean(mpg)</th><th scope=col>med(mpg)</th><th scope=col>max(price)</th><th scope=col>min(length)</th></tr>\n",
       "\t<tr><th scope=col>&lt;int&gt;</th><th scope=col>&lt;int&gt;</th><th scope=col>&lt;dbl&gt;</th><th scope=col>&lt;dbl&gt;</th><th scope=col>&lt;int&gt;</th><th scope=col>&lt;int&gt;</th></tr>\n",
       "</thead>\n",
       "<tbody>\n",
       "\t<tr><td>1</td><td> 2</td><td>21.00000</td><td>21.0</td><td> 4934</td><td>180</td></tr>\n",
       "\t<tr><td>2</td><td> 8</td><td>19.12500</td><td>18.0</td><td>14500</td><td>179</td></tr>\n",
       "\t<tr><td>3</td><td>30</td><td>19.43333</td><td>19.0</td><td>15906</td><td>142</td></tr>\n",
       "\t<tr><td>4</td><td>18</td><td>21.66667</td><td>22.5</td><td> 9735</td><td>147</td></tr>\n",
       "\t<tr><td>5</td><td>11</td><td>27.36364</td><td>30.0</td><td>11995</td><td>155</td></tr>\n",
       "</tbody>\n",
       "</table>\n"
      ],
      "text/latex": [
       "A tibble: 5 × 6\n",
       "\\begin{tabular}{llllll}\n",
       " rep78 & N(mpg) & mean(mpg) & med(mpg) & max(price) & min(length)\\\\\n",
       " <int> & <int> & <dbl> & <dbl> & <int> & <int>\\\\\n",
       "\\hline\n",
       "\t 1 &  2 & 21.00000 & 21.0 &  4934 & 180\\\\\n",
       "\t 2 &  8 & 19.12500 & 18.0 & 14500 & 179\\\\\n",
       "\t 3 & 30 & 19.43333 & 19.0 & 15906 & 142\\\\\n",
       "\t 4 & 18 & 21.66667 & 22.5 &  9735 & 147\\\\\n",
       "\t 5 & 11 & 27.36364 & 30.0 & 11995 & 155\\\\\n",
       "\\end{tabular}\n"
      ],
      "text/markdown": [
       "\n",
       "A tibble: 5 × 6\n",
       "\n",
       "| rep78 &lt;int&gt; | N(mpg) &lt;int&gt; | mean(mpg) &lt;dbl&gt; | med(mpg) &lt;dbl&gt; | max(price) &lt;int&gt; | min(length) &lt;int&gt; |\n",
       "|---|---|---|---|---|---|\n",
       "| 1 |  2 | 21.00000 | 21.0 |  4934 | 180 |\n",
       "| 2 |  8 | 19.12500 | 18.0 | 14500 | 179 |\n",
       "| 3 | 30 | 19.43333 | 19.0 | 15906 | 142 |\n",
       "| 4 | 18 | 21.66667 | 22.5 |  9735 | 147 |\n",
       "| 5 | 11 | 27.36364 | 30.0 | 11995 | 155 |\n",
       "\n"
      ],
      "text/plain": [
       "  rep78 N(mpg) mean(mpg) med(mpg) max(price) min(length)\n",
       "1 1      2     21.00000  21.0      4934      180        \n",
       "2 2      8     19.12500  18.0     14500      179        \n",
       "3 3     30     19.43333  19.0     15906      142        \n",
       "4 4     18     21.66667  22.5      9735      147        \n",
       "5 5     11     27.36364  30.0     11995      155        "
      ]
     },
     "metadata": {},
     "output_type": "display_data"
    }
   ],
   "source": [
    "summarise(df1, \n",
    "          \"N(mpg)\"=length(mpg),\n",
    "          \"mean(mpg)\"=round(mean(mpg), 5),\n",
    "          \"med(mpg)\"=median(mpg),\n",
    "          \"max(price)\"=max(price),\n",
    "          \"min(length)\"=min(length),\n",
    "          )"
   ]
  },
  {
   "cell_type": "markdown",
   "id": "e12c66a9",
   "metadata": {},
   "source": [
    "# Table 3"
   ]
  },
  {
   "cell_type": "code",
   "execution_count": 8,
   "id": "889eab1f",
   "metadata": {},
   "outputs": [
    {
     "data": {
      "text/html": [
       "<table class=\"dataframe\">\n",
       "<caption>A tabyl: 6 × 4</caption>\n",
       "<thead>\n",
       "\t<tr><th scope=col>rep78</th><th scope=col>Domestic</th><th scope=col>Foreign</th><th scope=col>Total</th></tr>\n",
       "\t<tr><th scope=col>&lt;chr&gt;</th><th scope=col>&lt;int&gt;</th><th scope=col>&lt;int&gt;</th><th scope=col>&lt;int&gt;</th></tr>\n",
       "</thead>\n",
       "<tbody>\n",
       "\t<tr><td>1    </td><td> 2</td><td> 0</td><td> 2</td></tr>\n",
       "\t<tr><td>2    </td><td> 8</td><td> 0</td><td> 8</td></tr>\n",
       "\t<tr><td>3    </td><td>27</td><td> 3</td><td>30</td></tr>\n",
       "\t<tr><td>4    </td><td> 9</td><td> 9</td><td>18</td></tr>\n",
       "\t<tr><td>5    </td><td> 2</td><td> 9</td><td>11</td></tr>\n",
       "\t<tr><td>Total</td><td>48</td><td>21</td><td>69</td></tr>\n",
       "</tbody>\n",
       "</table>\n"
      ],
      "text/latex": [
       "A tabyl: 6 × 4\n",
       "\\begin{tabular}{llll}\n",
       " rep78 & Domestic & Foreign & Total\\\\\n",
       " <chr> & <int> & <int> & <int>\\\\\n",
       "\\hline\n",
       "\t 1     &  2 &  0 &  2\\\\\n",
       "\t 2     &  8 &  0 &  8\\\\\n",
       "\t 3     & 27 &  3 & 30\\\\\n",
       "\t 4     &  9 &  9 & 18\\\\\n",
       "\t 5     &  2 &  9 & 11\\\\\n",
       "\t Total & 48 & 21 & 69\\\\\n",
       "\\end{tabular}\n"
      ],
      "text/markdown": [
       "\n",
       "A tabyl: 6 × 4\n",
       "\n",
       "| rep78 &lt;chr&gt; | Domestic &lt;int&gt; | Foreign &lt;int&gt; | Total &lt;int&gt; |\n",
       "|---|---|---|---|\n",
       "| 1     |  2 |  0 |  2 |\n",
       "| 2     |  8 |  0 |  8 |\n",
       "| 3     | 27 |  3 | 30 |\n",
       "| 4     |  9 |  9 | 18 |\n",
       "| 5     |  2 |  9 | 11 |\n",
       "| Total | 48 | 21 | 69 |\n",
       "\n"
      ],
      "text/plain": [
       "  rep78 Domestic Foreign Total\n",
       "1 1      2        0       2   \n",
       "2 2      8        0       8   \n",
       "3 3     27        3      30   \n",
       "4 4      9        9      18   \n",
       "5 5      2        9      11   \n",
       "6 Total 48       21      69   "
      ]
     },
     "metadata": {},
     "output_type": "display_data"
    }
   ],
   "source": [
    "df1 %>%\n",
    "  summarise(\n",
    "            \"Domestic\"=length(foreign[foreign==\"Domestic\"]),\n",
    "            \"Foreign\"=length(foreign[foreign==\"Foreign\"]),\n",
    "            \"Total\"=length(foreign),\n",
    "  ) %>%\n",
    "  adorn_totals(\"row\") "
   ]
  },
  {
   "cell_type": "markdown",
   "id": "d9957c56",
   "metadata": {},
   "source": [
    "# Table 4"
   ]
  },
  {
   "cell_type": "code",
   "execution_count": 9,
   "id": "631e15e3",
   "metadata": {},
   "outputs": [
    {
     "data": {
      "text/html": [
       "<table class=\"dataframe\">\n",
       "<caption>A tibble: 5 × 4</caption>\n",
       "<thead>\n",
       "\t<tr><th scope=col>rep78</th><th scope=col>Domestic</th><th scope=col>Foreign</th><th scope=col>Total</th></tr>\n",
       "\t<tr><th scope=col>&lt;int&gt;</th><th scope=col>&lt;dbl&gt;</th><th scope=col>&lt;dbl&gt;</th><th scope=col>&lt;dbl&gt;</th></tr>\n",
       "</thead>\n",
       "<tbody>\n",
       "\t<tr><td>1</td><td>21.00000</td><td>     NaN</td><td>21.00000</td></tr>\n",
       "\t<tr><td>2</td><td>19.12500</td><td>     NaN</td><td>19.12500</td></tr>\n",
       "\t<tr><td>3</td><td>19.00000</td><td>23.33333</td><td>19.43333</td></tr>\n",
       "\t<tr><td>4</td><td>18.44444</td><td>24.88889</td><td>21.66667</td></tr>\n",
       "\t<tr><td>5</td><td>32.00000</td><td>26.33333</td><td>27.36364</td></tr>\n",
       "</tbody>\n",
       "</table>\n"
      ],
      "text/latex": [
       "A tibble: 5 × 4\n",
       "\\begin{tabular}{llll}\n",
       " rep78 & Domestic & Foreign & Total\\\\\n",
       " <int> & <dbl> & <dbl> & <dbl>\\\\\n",
       "\\hline\n",
       "\t 1 & 21.00000 &      NaN & 21.00000\\\\\n",
       "\t 2 & 19.12500 &      NaN & 19.12500\\\\\n",
       "\t 3 & 19.00000 & 23.33333 & 19.43333\\\\\n",
       "\t 4 & 18.44444 & 24.88889 & 21.66667\\\\\n",
       "\t 5 & 32.00000 & 26.33333 & 27.36364\\\\\n",
       "\\end{tabular}\n"
      ],
      "text/markdown": [
       "\n",
       "A tibble: 5 × 4\n",
       "\n",
       "| rep78 &lt;int&gt; | Domestic &lt;dbl&gt; | Foreign &lt;dbl&gt; | Total &lt;dbl&gt; |\n",
       "|---|---|---|---|\n",
       "| 1 | 21.00000 |      NaN | 21.00000 |\n",
       "| 2 | 19.12500 |      NaN | 19.12500 |\n",
       "| 3 | 19.00000 | 23.33333 | 19.43333 |\n",
       "| 4 | 18.44444 | 24.88889 | 21.66667 |\n",
       "| 5 | 32.00000 | 26.33333 | 27.36364 |\n",
       "\n"
      ],
      "text/plain": [
       "  rep78 Domestic Foreign  Total   \n",
       "1 1     21.00000      NaN 21.00000\n",
       "2 2     19.12500      NaN 19.12500\n",
       "3 3     19.00000 23.33333 19.43333\n",
       "4 4     18.44444 24.88889 21.66667\n",
       "5 5     32.00000 26.33333 27.36364"
      ]
     },
     "metadata": {},
     "output_type": "display_data"
    }
   ],
   "source": [
    "df1 %>%\n",
    "  summarise(\n",
    "            \"Domestic\"=mean(mpg[foreign==\"Domestic\"]),\n",
    "            \"Foreign\"=mean(mpg[foreign==\"Foreign\"]),\n",
    "            \"Total\"=mean(mpg),\n",
    "  )"
   ]
  },
  {
   "cell_type": "code",
   "execution_count": 10,
   "id": "314aca6d",
   "metadata": {},
   "outputs": [
    {
     "name": "stdout",
     "output_type": "stream",
     "text": [
      "[1] \"Memory used\"\n"
     ]
    },
    {
     "data": {
      "text/plain": [
       "13.1 MB"
      ]
     },
     "metadata": {},
     "output_type": "display_data"
    },
    {
     "name": "stdout",
     "output_type": "stream",
     "text": [
      "[1] \"Time elapsed\"\n"
     ]
    },
    {
     "data": {
      "text/plain": [
       "   user  system elapsed \n",
       "   0.61    0.17    2.37 "
      ]
     },
     "metadata": {},
     "output_type": "display_data"
    }
   ],
   "source": [
    "print(\"Memory used\")\n",
    "mem_used() - mem_b\n",
    "print(\"Time elapsed\")\n",
    "proc.time() - ptm"
   ]
  },
  {
   "cell_type": "code",
   "execution_count": 11,
   "id": "f7d0502c",
   "metadata": {},
   "outputs": [
    {
     "data": {
      "text/plain": [
       "17.5 kB"
      ]
     },
     "metadata": {},
     "output_type": "display_data"
    }
   ],
   "source": [
    "object_size(df1)"
   ]
  }
 ],
 "metadata": {
  "kernelspec": {
   "display_name": "R",
   "language": "R",
   "name": "ir"
  },
  "language_info": {
   "codemirror_mode": "r",
   "file_extension": ".r",
   "mimetype": "text/x-r-source",
   "name": "R",
   "pygments_lexer": "r",
   "version": "4.1.0"
  }
 },
 "nbformat": 4,
 "nbformat_minor": 5
}
